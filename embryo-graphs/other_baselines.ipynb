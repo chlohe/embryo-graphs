{
 "cells": [
  {
   "cell_type": "code",
   "execution_count": null,
   "metadata": {},
   "outputs": [],
   "source": [
    "import pandas as pd\n",
    "import numpy as np\n",
    "import json\n",
    "\n",
    "from sklearn.model_selection import StratifiedKFold\n",
    "from sklearn.linear_model import LogisticRegression\n",
    "from sklearn import metrics\n",
    "\n",
    "import utils"
   ]
  },
  {
   "cell_type": "code",
   "execution_count": null,
   "metadata": {},
   "outputs": [],
   "source": [
    "def calculate_kidscored3(row):\n",
    "    \"\"\"\n",
    "    Calculates the KIDScore D3 from embryo kinetics.\n",
    "\n",
    "    Arguments:\n",
    "            row: a dictionary of morphokinetic parameters.\n",
    "    Returns:\n",
    "            The KIDScore D3 calculated from row.\n",
    "    \"\"\"\n",
    "    tPNf, t2, t3, t5, t8 = row['tPNf'], row['t2'], row['t3'], row['t5'], row['t8']\n",
    "    if t3-tPNf < 11.48:\n",
    "                return 1\n",
    "    elif t3 >= 42.91:\n",
    "                return 2\n",
    "    elif (t5-t3)/(t5-t2) < 0.3408:\n",
    "                return 3\n",
    "    elif (t5-t3)/(t5-t2) >= 0.5781:\n",
    "                return 4\n",
    "    elif t8 > 66:\n",
    "                return 4\n",
    "    else:\n",
    "                return 5\n"
   ]
  },
  {
   "cell_type": "code",
   "execution_count": null,
   "metadata": {},
   "outputs": [],
   "source": [
    "df = pd.read_csv('data/clinical.csv')\n",
    "df_adj = pd.read_csv('data/adjacency_and_bbox_dataset.csv')\n",
    "df = df[df['id'].isin(list(df_adj['id']))]"
   ]
  },
  {
   "cell_type": "code",
   "execution_count": null,
   "metadata": {},
   "outputs": [],
   "source": [
    "df_adj['total_contacts'] = df_adj['adjacency'].apply(lambda x: sum([sum(y) for y in json.loads(x)]))\n",
    "df = df.merge(df_adj[['total_contacts', 'id']], on='id')"
   ]
  },
  {
   "cell_type": "code",
   "execution_count": null,
   "metadata": {},
   "outputs": [],
   "source": [
    "df['KIDScore'] = df.apply(calculate_kidscored3, axis=1)"
   ]
  },
  {
   "cell_type": "code",
   "execution_count": null,
   "metadata": {},
   "outputs": [],
   "source": [
    "df_train = df[df['simplified_outcome'].notna()][['KIDScore', 'total_contacts', 'simplified_outcome']]\n",
    "df_train['label'] = df_train['simplified_outcome'].apply(lambda x: 1 if x == 'live birth' else 0)\n",
    "df_train"
   ]
  },
  {
   "cell_type": "code",
   "execution_count": null,
   "metadata": {},
   "outputs": [],
   "source": [
    "def compute_metrics(targets, preds):\n",
    "    return {\n",
    "        'acc': metrics.accuracy_score(targets, preds),\n",
    "        'prec': metrics.precision_score(targets, preds, pos_label=0),\n",
    "        'sens': metrics.recall_score(targets, preds, pos_label=0),\n",
    "        'spec': metrics.recall_score(targets, preds, pos_label=1),\n",
    "        'f1': metrics.f1_score(targets, preds, pos_label=0),\n",
    "        'auc': metrics.roc_auc_score(targets, preds)\n",
    "    }"
   ]
  },
  {
   "cell_type": "code",
   "execution_count": null,
   "metadata": {},
   "outputs": [],
   "source": [
    "def train_cv(parameter):\n",
    "    val_results = []\n",
    "    for i in range(10):\n",
    "        kfold = StratifiedKFold(n_splits=5, shuffle=True)\n",
    "        for train_idxs, val_idxs in kfold.split(df_train[parameter], df_train['label']):\n",
    "            train = df_train.iloc[train_idxs]\n",
    "            val = df_train.iloc[val_idxs]\n",
    "            model = LogisticRegression().fit(\n",
    "                np.expand_dims(np.array(train[parameter]), axis=1),\n",
    "                train['label']\n",
    "            )\n",
    "            preds = model.predict(np.expand_dims(np.array(val[parameter]), axis=1))\n",
    "            val_results.append(compute_metrics(val['label'], preds))\n",
    "\n",
    "    return utils.mean_and_std_over_dict(val_results)"
   ]
  },
  {
   "cell_type": "code",
   "execution_count": null,
   "metadata": {},
   "outputs": [],
   "source": [
    "train_cv('KIDScore')"
   ]
  },
  {
   "cell_type": "code",
   "execution_count": null,
   "metadata": {},
   "outputs": [],
   "source": [
    "train_cv('total_contacts')"
   ]
  }
 ],
 "metadata": {
  "kernelspec": {
   "display_name": "base",
   "language": "python",
   "name": "python3"
  },
  "language_info": {
   "codemirror_mode": {
    "name": "ipython",
    "version": 3
   },
   "file_extension": ".py",
   "mimetype": "text/x-python",
   "name": "python",
   "nbconvert_exporter": "python",
   "pygments_lexer": "ipython3",
   "version": "3.10.9"
  }
 },
 "nbformat": 4,
 "nbformat_minor": 2
}
