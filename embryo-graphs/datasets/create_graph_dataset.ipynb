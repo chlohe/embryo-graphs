{
 "cells": [
  {
   "cell_type": "code",
   "execution_count": null,
   "metadata": {},
   "outputs": [],
   "source": [
    "import pandas as pd\n",
    "import os\n",
    "import glob\n",
    "import numpy as np"
   ]
  },
  {
   "cell_type": "markdown",
   "metadata": {},
   "source": [
    "# Create dataframe of Unity bboxes"
   ]
  },
  {
   "cell_type": "code",
   "execution_count": null,
   "metadata": {},
   "outputs": [],
   "source": [
    "unity_paths = glob.glob('../data/unity/t8/*.txt')\n",
    "unity_annots = []\n",
    "for path in unity_paths:\n",
    "    with open(path, 'r') as f:\n",
    "        lines = f.readlines()\n",
    "        # Yeet anything with not 8 cells\n",
    "        if len(lines) == 8:\n",
    "            unity_annots.append({\n",
    "                'id': int(os.path.basename(path).split('_')[1]),\n",
    "                'label': lines\n",
    "            })\n",
    "df_unity = pd.DataFrame(unity_annots)"
   ]
  },
  {
   "cell_type": "code",
   "execution_count": null,
   "metadata": {},
   "outputs": [],
   "source": [
    "def parse_unity_label(label):\n",
    "    cells = []\n",
    "    for cell in label:\n",
    "        meta, mask = cell.split('[')\n",
    "        # Get the center coords and depth\n",
    "        cx, cy, depth, _ = meta.strip().split(' ')\n",
    "        cx, cy, depth = int(cx), int(cy), int(depth)\n",
    "        # Get the furthest extent of the mask and hence width and height\n",
    "        coords = mask[:-2].split('), (')\n",
    "        coords = [tuple(coord.replace('(', '').replace(')', '').split(', ')) for coord in coords]\n",
    "        xs = [int(x) for x, y in coords]\n",
    "        ys = [int(y) for x, y in coords]\n",
    "        w = max(xs) - min(xs)\n",
    "        h = max(ys) - min(ys)\n",
    "        cells.append([cx, cy, w, h, depth])\n",
    "    return cells\n",
    "\n",
    "df_unity['label'] = df_unity['label'].apply(parse_unity_label)\n",
    "df_unity"
   ]
  },
  {
   "cell_type": "markdown",
   "metadata": {},
   "source": [
    "# Load existing data on outcomes and adjacency"
   ]
  },
  {
   "cell_type": "code",
   "execution_count": null,
   "metadata": {},
   "outputs": [],
   "source": [
    "df_clinical = pd.read_csv('../data/clinical.csv')\n",
    "df_adjacency = pd.read_csv('../data/adj-t8.csv')"
   ]
  },
  {
   "cell_type": "code",
   "execution_count": null,
   "metadata": {},
   "outputs": [],
   "source": [
    "def parse_adjacency(x):\n",
    "    # Disgusting list comp to parse adjacency matrix\n",
    "    return [\n",
    "        [\n",
    "            0 if float(value) == 0 else 1 \n",
    "            for value in [v for v in row.strip().split(' ') if v != '']\n",
    "        ] \n",
    "        for row in x.split('/') if row.strip() != ''\n",
    "    ]\n",
    "df_adjacency['adjacency'] = df_adjacency['adjacency'].apply(parse_adjacency)\n",
    "df_adjacency"
   ]
  },
  {
   "cell_type": "markdown",
   "metadata": {},
   "source": [
    "# Compute distance matrix"
   ]
  },
  {
   "cell_type": "code",
   "execution_count": null,
   "metadata": {},
   "outputs": [],
   "source": [
    "def compute_distance_matrix_without_adjacency(cells, img_side_len=500, dist_per_pixel=0.55, no_slices=11, dist_per_focal=15):\n",
    "    depth_normalisation_multiplier = (((no_slices-1)*dist_per_focal)/(img_side_len*dist_per_pixel))/(no_slices-1)\n",
    "    return [\n",
    "        [\n",
    "            np.sqrt(((a[0]-b[0])/img_side_len)**2 + ((a[1]-b[1])/img_side_len)**2 + ((a[4]-b[4])*depth_normalisation_multiplier)**2)\n",
    "            for b in cells\n",
    "        ]\n",
    "        for a in cells\n",
    "    ]"
   ]
  },
  {
   "cell_type": "code",
   "execution_count": null,
   "metadata": {},
   "outputs": [],
   "source": [
    "df_unity['distance'] = df_unity['label'].apply(compute_distance_matrix_without_adjacency)\n",
    "df_unity"
   ]
  },
  {
   "cell_type": "markdown",
   "metadata": {},
   "source": [
    "# Merge dataframes"
   ]
  },
  {
   "cell_type": "code",
   "execution_count": null,
   "metadata": {},
   "outputs": [],
   "source": [
    "df = df_clinical.merge(df_adjacency, on='id')\n",
    "df = df.merge(df_unity, on='id')\n",
    "df"
   ]
  },
  {
   "cell_type": "code",
   "execution_count": null,
   "metadata": {},
   "outputs": [],
   "source": [
    "df.to_csv('../data/adjacency_and_bbox_dataset.csv')"
   ]
  }
 ],
 "metadata": {
  "kernelspec": {
   "display_name": "base",
   "language": "python",
   "name": "python3"
  },
  "language_info": {
   "codemirror_mode": {
    "name": "ipython",
    "version": 3
   },
   "file_extension": ".py",
   "mimetype": "text/x-python",
   "name": "python",
   "nbconvert_exporter": "python",
   "pygments_lexer": "ipython3",
   "version": "3.10.9"
  }
 },
 "nbformat": 4,
 "nbformat_minor": 2
}
